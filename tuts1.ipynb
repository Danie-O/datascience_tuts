{
 "cells": [
  {
   "cell_type": "code",
   "execution_count": 8,
   "metadata": {},
   "outputs": [
    {
     "name": "stdout",
     "output_type": "stream",
     "text": [
      "23 is allowed\n",
      "rider 1 is 12 years old & is not allowed on this ride\n",
      "rider 2 is 5 years old & is not allowed on this ride\n",
      "rider 3 is 5 years old & is not allowed on this ride\n",
      "100 is allowed\n"
     ]
    }
   ],
   "source": [
    "# name = input(\"Enter your username: \")\n",
    "# password= input(\"Enter password: \")\n",
    "\n",
    "\n",
    "# if(len(name)<7):\n",
    "#     print(\"Enter a username of less than 7 characters\")\n",
    "# else:\n",
    "#     print(\"Username is valid\")\n",
    "\n",
    "# if(len(password)<7 & len(password)>10):\n",
    "#     print(\"length of password should be btw 7 and 10 characters\")\n",
    "# else:\n",
    "#     print(\"Password is valid\")\n",
    "\n",
    "age = []\n",
    "for i in range(5):\n",
    "    age.append(int(input(\"enter age of rider: \")))\n",
    "\n",
    "for i,x in enumerate(age):\n",
    "    if(x<18):\n",
    "        print(f\"rider {i} is {x} years old & is not allowed on this ride\")\n",
    "    else:\n",
    "        print(f\"{x} is allowed\")\n",
    "\n",
    "\n",
    "\n",
    "\n",
    "\n"
   ]
  }
 ],
 "metadata": {
  "interpreter": {
   "hash": "971661e3eaf4a5cba64c700c5d21afd1ba9c2484c990bba2dfa319f8ff217a37"
  },
  "kernelspec": {
   "display_name": "Python 3.8.0 32-bit",
   "language": "python",
   "name": "python3"
  },
  "language_info": {
   "codemirror_mode": {
    "name": "ipython",
    "version": 3
   },
   "file_extension": ".py",
   "mimetype": "text/x-python",
   "name": "python",
   "nbconvert_exporter": "python",
   "pygments_lexer": "ipython3",
   "version": "3.8.0"
  },
  "orig_nbformat": 4
 },
 "nbformat": 4,
 "nbformat_minor": 2
}
