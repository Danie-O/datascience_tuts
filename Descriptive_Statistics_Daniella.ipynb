{
  "nbformat": 4,
  "nbformat_minor": 0,
  "metadata": {
    "kernelspec": {
      "display_name": "Python 3",
      "language": "python",
      "name": "python3"
    },
    "language_info": {
      "codemirror_mode": {
        "name": "ipython",
        "version": 3
      },
      "file_extension": ".py",
      "mimetype": "text/x-python",
      "name": "python",
      "nbconvert_exporter": "python",
      "pygments_lexer": "ipython3",
      "version": "3.7.3"
    },
    "colab": {
      "name": "Descriptive_Stats_Solution.ipynb",
      "provenance": []
    }
  },
  "cells": [
    {
      "cell_type": "markdown",
      "metadata": {
        "id": "gW_5TFDFyKld"
      },
      "source": [
        "## Question One (Mean):\n",
        "\n",
        "The first question is to find the mean of a set of numbers. From class, we understood the mean is calculated by \n",
        "$$\\begin{equation}\n",
        "\\mu = \\dfrac{1}{n}\\sum_{i=1}^{n}x_{i}\n",
        "\\end{equation}$$\n",
        "\n",
        "So using the formulae, write a function that would calcuate the mean"
      ]
    },
    {
      "cell_type": "code",
      "metadata": {
        "id": "aqx3BFd9yKle"
      },
      "source": [
        ""
      ],
      "execution_count": null,
      "outputs": []
    },
    {
      "cell_type": "markdown",
      "metadata": {
        "id": "E2vvHRcHyKlg"
      },
      "source": [
        "Use your function to answer the following questions:\n",
        "\n",
        "\n",
        "Q1. [19, 21, 46, 11, 18]\n",
        "\n",
        "Q2. [45, 67, 89, 12, 31, 25]\n",
        "\n"
      ]
    },
    {
      "cell_type": "markdown",
      "metadata": {
        "id": "bgbBUazUyKlh"
      },
      "source": [
        "## Question Two (Median):\n",
        "\n",
        "You would have to find the median of a given list. \n",
        "Remember: The median is the middle number for a given list. But, note that incase the length of the list is even you calculate it by taking the average of the two middle numbers."
      ]
    },
    {
      "cell_type": "code",
      "metadata": {
        "id": "kZceylj-yKli"
      },
      "source": [
        ""
      ],
      "execution_count": null,
      "outputs": []
    },
    {
      "cell_type": "markdown",
      "metadata": {
        "id": "olAEIWaSyKll"
      },
      "source": [
        "\n",
        "Use your function to find the median of the following list:\n",
        "\n",
        "Q1. 15, 14, 10, 8, 12, 8 and 16\n",
        "\n",
        "Q2. 21, 3, 7, 17, 19, 31, 46, 20 and 43."
      ]
    },
    {
      "cell_type": "markdown",
      "metadata": {
        "id": "l7aGpcS1yKll"
      },
      "source": [
        "## Question Three (Mode):\n",
        "\n",
        "Mode is the number in the list which occurs most frequently. We can have two or three modes in a list if they equal the same number of frequency. In that, case, your function should return all of the most frequently occured numbers in a list."
      ]
    },
    {
      "cell_type": "markdown",
      "metadata": {
        "id": "fSV_RDXNyKln"
      },
      "source": [
        "Find the  mode of the following using your function:\n",
        "\n",
        "    \n",
        "Q1. 2, 3, 6,6, 6, 3 \n",
        "\n",
        "Q2. \"a\", \"a\", \"b\" and \"d\"\n",
        "\n"
      ]
    },
    {
      "cell_type": "markdown",
      "metadata": {
        "id": "mmwFwf75yKln"
      },
      "source": [
        "## Question Four (Variance):\n",
        "\n",
        "For this part, you need to make use of the original written calculated mean function to calculate the variance.\n",
        "$$ \\begin{equation}\n",
        "\\sigma ^{2} = \\dfrac{1}{n}\\sum_{i=1}^{n} (x_{i}- \\mu)^{2}\n",
        "\\end{equation}$$\n"
      ]
    },
    {
      "cell_type": "code",
      "metadata": {
        "id": "sCHmpFFayKlo"
      },
      "source": [
        ""
      ],
      "execution_count": null,
      "outputs": []
    },
    {
      "cell_type": "markdown",
      "metadata": {
        "id": "aE63Cr_-yKlo"
      },
      "source": [
        "Use your variane function to find the following:\n",
        "\n",
        "Q1.  6, 7, 3, 9, 10 and 15 \n",
        "\n",
        "Q2. 10, 32, 45, 67, 31 and 73"
      ]
    },
    {
      "cell_type": "markdown",
      "metadata": {
        "id": "aEYaGVRQyKlo"
      },
      "source": [
        "## Question Five (Standard deviation):\n",
        "\n",
        "For this part, you need to make use of the original written calculated mean function to calculate the standard deviation.\n",
        "\n",
        "\n",
        "\n",
        "$$ \\begin{equation}\n",
        "\\sigma = \\sqrt{\\dfrac{1}{n}\\sum_{i=1}^{n} (x_{i}- \\mu)^{2}}\n",
        "\\end{equation}$$"
      ]
    },
    {
      "cell_type": "code",
      "metadata": {
        "id": "2GH2Bi-KyKlp"
      },
      "source": [
        ""
      ],
      "execution_count": null,
      "outputs": []
    },
    {
      "cell_type": "markdown",
      "metadata": {
        "id": "cR6Zy_VvyKlp"
      },
      "source": [
        "Find the standard deviation of the following:\n",
        "    \n",
        "Q1. 9, 2, 5, 4, 12 and 7\n",
        "\n",
        "\n",
        "Q2. 9, 2, 5, 4, 12, 7, 8, 11, 9, 3, 7, 4, 12, 5, 4, 10, 9, 6, 9, 4"
      ]
    },
    {
      "cell_type": "markdown",
      "metadata": {
        "id": "_FINfOhpyKlp"
      },
      "source": [
        "## Question Six (Range):\n",
        "Range is the difference between the lowest and highest value."
      ]
    },
    {
      "cell_type": "code",
      "metadata": {
        "id": "9oGtBzmcyKlq"
      },
      "source": [
        ""
      ],
      "execution_count": null,
      "outputs": []
    },
    {
      "cell_type": "markdown",
      "metadata": {
        "id": "QRuPalK6yKlq"
      },
      "source": [
        "Find the range of the following list:\n",
        "\n",
        "Q1. 9, 2, 5, 4, 12, and  7 \n",
        "\n",
        "\n",
        "Q2. 9, 2, 5, 4, 12, 7,1, 8, 11, 9, 3, 7, 4\n",
        "\n",
        "    "
      ]
    }
  ]
}